{
 "cells": [
  {
   "cell_type": "markdown",
   "id": "6a654877",
   "metadata": {
    "slideshow": {
     "slide_type": "slide"
    }
   },
   "source": [
    "Projet: Créer une application web VTC avec des utilisatrices et conductrices féminin\n",
    "\n",
    "Thomas Papas\n",
    "Python Software Engineer"
   ]
  },
  {
   "cell_type": "markdown",
   "id": "96b7693f",
   "metadata": {
    "slideshow": {
     "slide_type": "slide"
    }
   },
   "source": [
    "Objectifs :\n",
    "\n",
    "- Garentir une meillieure sécurité pour les femmes qui sortent le soir\n",
    "- Créer une alternative face a l'expansion sauvage de l'uberisation\n",
    "\n"
   ]
  },
  {
   "cell_type": "markdown",
   "id": "4d065304",
   "metadata": {
    "slideshow": {
     "slide_type": "slide"
    }
   },
   "source": [
    "Plan de la présentation\n",
    "\n",
    "1. Configuration de la base de données avec Flask SQLAlchemy et de l'appli\n",
    "2. Gestion des utilisateurs et deeplinking\n",
    "3. Présentation du projet\n",
    "4. Questions "
   ]
  },
  {
   "cell_type": "markdown",
   "id": "3be1c838",
   "metadata": {
    "slideshow": {
     "slide_type": "slide"
    }
   },
   "source": [
    "1) Configuration de la base de données avec Flask SQLAlchemy et de l'appli :\n",
    "\n",
    "\n",
    "- Création d'un fichr \".env\" pour stocker nos clés secrètes. Permet notamment d'éviter de les push\n",
    "\n",
    "\n",
    "\n",
    "   "
   ]
  },
  {
   "cell_type": "code",
   "execution_count": null,
   "id": "350e77a9",
   "metadata": {
    "slideshow": {
     "slide_type": "fragment"
    }
   },
   "outputs": [],
   "source": [
    "SECRET_KEY= 'you-will-never-guess-this'\n",
    "JWT_SECRET_KEY='your_jwt_secret_key'\n",
    "MAIL_USERNAME=thomaspapas470@gmail.com\n",
    "MAIL_PASSWORD=xlvm jefg uqhe ymlc"
   ]
  },
  {
   "cell_type": "markdown",
   "id": "e226fc2e",
   "metadata": {
    "slideshow": {
     "slide_type": "slide"
    }
   },
   "source": [
    "- Configuration de l'appli dans un fichier models.py"
   ]
  },
  {
   "cell_type": "markdown",
   "id": "875e5b32",
   "metadata": {
    "slideshow": {
     "slide_type": "fragment"
    }
   },
   "source": [
    "Import des librairies python utilisées"
   ]
  },
  {
   "cell_type": "code",
   "execution_count": 1,
   "id": "795adb74",
   "metadata": {
    "slideshow": {
     "slide_type": "fragment"
    }
   },
   "outputs": [],
   "source": [
    "\n",
    "\n",
    "from flask import Flask\n",
    "from flask_sqlalchemy import SQLAlchemy\n",
    "from flask_login import LoginManager,UserMixin\n",
    "from werkzeug.security import generate_password_hash, check_password_hash\n",
    "from flask_mail import Mail,Message\n",
    "from dotenv import load_dotenv\n",
    "from flask_jwt_extended import JWTManager\n",
    "from _datetime import datetime \n"
   ]
  },
  {
   "cell_type": "markdown",
   "id": "dec0bac0",
   "metadata": {
    "slideshow": {
     "slide_type": "slide"
    }
   },
   "source": [
    "Initialisation de SQLAlchemy, LoginManager, Flask Mail et Flask JWT extended (deeplinking)"
   ]
  },
  {
   "cell_type": "code",
   "execution_count": 6,
   "id": "f953295e",
   "metadata": {
    "slideshow": {
     "slide_type": "fragment"
    }
   },
   "outputs": [],
   "source": [
    "\n",
    "db = SQLAlchemy()  # SQLAlchemy for database interactions\n",
    "login_manager = LoginManager()  # Flask-Login for user session management\n",
    "mail = Mail()  # Flask-Mail for email handling\n",
    "jwt = JWTManager()  # Flask-JWT-Extended for JWT authentication\n"
   ]
  },
  {
   "cell_type": "markdown",
   "id": "fc33f2e4",
   "metadata": {
    "slideshow": {
     "slide_type": "slide"
    }
   },
   "source": [
    "Data class de User"
   ]
  },
  {
   "cell_type": "code",
   "execution_count": 7,
   "id": "985762d8",
   "metadata": {
    "slideshow": {
     "slide_type": "fragment"
    }
   },
   "outputs": [],
   "source": [
    "class User(db.Model, UserMixin):\n",
    "    id = db.Column(db.Integer, primary_key=True)\n",
    "    username = db.Column(db.String(50), index=True, unique=True)\n",
    "    email = db.Column(db.String(120), index=True)\n",
    "    password_hash = db.Column(db.String(128))\n",
    "    name = db.Column(db.String(50))\n",
    "    surname = db.Column(db.String(50))\n",
    "    gender = db.Column(db.String(50), default=\"female\")\n",
    "    role = db.Column(db.String(10))\n",
    "\n",
    "    def __init__(self, username, name, surname, email, password,role):\n",
    "        self.username = username\n",
    "        self.name = name\n",
    "        self.surname = surname\n",
    "        self.email = email\n",
    "        self.role = role\n",
    "        self.set_password(password)\n",
    "\n",
    "    def set_password(self, password):\n",
    "        self.password_hash = generate_password_hash(password)\n",
    "\n",
    "    def check_password(self, password):\n",
    "        return check_password_hash(self.password_hash, password)\n",
    "    \n",
    "    def __repr__(self):\n",
    "        return f'<User {self.id}>'"
   ]
  },
  {
   "cell_type": "markdown",
   "id": "7025a20e",
   "metadata": {
    "slideshow": {
     "slide_type": "slide"
    }
   },
   "source": [
    "Dataclass RideOrder"
   ]
  },
  {
   "cell_type": "code",
   "execution_count": null,
   "id": "2d4cf916",
   "metadata": {
    "slideshow": {
     "slide_type": "fragment"
    }
   },
   "outputs": [],
   "source": [
    "   \n",
    "class RideOrder(db.Model):\n",
    "    id = db.Column(db.Integer, primary_key=True)\n",
    "    name = db.Column(db.String(100), nullable=False)\n",
    "    departure = db.Column(db.String(200), nullable=False)\n",
    "    destination = db.Column(db.String(200), nullable=False)\n",
    "    time = db.Column(db.String(10), nullable=False,  default=lambda: datetime.utcnow().strftime('%H:%M:%S')) #Puts the current UTC time in the form HH:MM:SS as default\n",
    "    status = db.Column(db.String(20), default='pending')  # Ride status\n",
    "    user_id = db.Column(db.Integer, db.ForeignKey('user.id'), nullable=True)  # ID of the user who accepts the ride\n",
    "    \n",
    "    user = db.relationship('User', backref='ride_orders', lazy=True, foreign_keys=[user_id])\n",
    "\n",
    "    \n",
    "\n",
    "\n",
    "\n",
    "    def __repr__(self):\n",
    "        return f'<RideOrder {self.id}>'\n"
   ]
  },
  {
   "cell_type": "markdown",
   "id": "74ed677a",
   "metadata": {
    "slideshow": {
     "slide_type": "slide"
    }
   },
   "source": [
    "- 'User': Ceci spécifie le modèle lié. Ici, cela indique que ce modèle est lié au modèle User."
   ]
  },
  {
   "cell_type": "markdown",
   "id": "7d8ee0aa",
   "metadata": {
    "slideshow": {
     "slide_type": "fragment"
    }
   },
   "source": [
    "- backref='ride_orders': Cela crée une relation bidirectionnelle. Cela signifie que depuis le modèle User, vous pouvez accéder à une liste d'objets associés de ce modèle via l'attribut ride_orders."
   ]
  },
  {
   "cell_type": "markdown",
   "id": "42dd09f0",
   "metadata": {
    "slideshow": {
     "slide_type": "fragment"
    }
   },
   "source": [
    "- lazy=True: Cela détermine comment les objets liés sont chargés. Avec lazy=True, les objets liés sont chargés lorsque la relation est accédée. Il existe plusieurs options pour lazy, telles que 'select', 'joined', 'subquery', etc., qui contrôlent la stratégie de chargement."
   ]
  },
  {
   "cell_type": "markdown",
   "id": "7c5b5ce9",
   "metadata": {
    "slideshow": {
     "slide_type": "fragment"
    }
   },
   "source": [
    "- foreign_keys=[user_id]: Ceci spécifie quelle(s) clé(s) étrangère(s) doit/doivent être utilisée(s) dans la relation. Ici, user_id est une clé étrangère dans ce modèle qui est liée au modèle User"
   ]
  },
  {
   "cell_type": "markdown",
   "id": "6a38a11c",
   "metadata": {
    "slideshow": {
     "slide_type": "slide"
    }
   },
   "source": [
    "Dataclass InvitationEmails"
   ]
  },
  {
   "cell_type": "code",
   "execution_count": null,
   "id": "dc760992",
   "metadata": {
    "slideshow": {
     "slide_type": "fragment"
    }
   },
   "outputs": [],
   "source": [
    "class InvitationEmails(db.Model):  \n",
    "    id = db.Column(db.Integer, primary_key=True)\n",
    "    email = db.Column(db.String(50))\n",
    "    token = db.Column(db.String(128))"
   ]
  },
  {
   "cell_type": "markdown",
   "id": "fee15d8d",
   "metadata": {
    "slideshow": {
     "slide_type": "slide"
    }
   },
   "source": [
    "Initialisation de l'appli (fichier models.py)"
   ]
  },
  {
   "cell_type": "code",
   "execution_count": null,
   "id": "46ad5a41",
   "metadata": {
    "slideshow": {
     "slide_type": "fragment"
    }
   },
   "outputs": [],
   "source": [
    "def create_app():\n",
    "    # Load environment variables from .env file\n",
    "    load_dotenv()\n",
    "\n",
    "    # Initialize Flask application\n",
    "    app = Flask(__name__)\n",
    "    # Configure the Flask application with necessary settings\n",
    "    app.config['SQLALCHEMY_DATABASE_URI'] = 'sqlite:////home/nomades/Documents/pse_2024_0405/flask/Project_App/instance/project_app.db'  # Database URI\n",
    "    app.config['SQLALCHEMY_TRACK_MODIFICATIONS'] = False # Disable track modifications to save resources\n",
    "    app.config['SECRET_KEY'] = os.getenv('SECRET_KEY')  # Secret key for session management and CSRF protection\n",
    "    app.config['JWT_SECRET_KEY'] = os.getenv('JWT_SECRET_KEY')  # Secret key for JWT\n",
    "    app.config['MAIL_SERVER'] = 'smtp.gmail.com'  # Mail server\n",
    "    app.config['MAIL_PORT'] = 587  # Mail server port\n",
    "    app.config['MAIL_USE_TLS'] = True  # Use TLS for secure email transmission\n",
    "    app.config['MAIL_USE_SSL'] = False  # Do not use SSL (we are using TLS)\n",
    "    app.config['MAIL_USERNAME'] = os.getenv('MAIL_USERNAME')  # Email username from environment variables\n",
    "    app.config['MAIL_PASSWORD'] = os.getenv('MAIL_PASSWORD')  # Email password from environment variables\n",
    "    \n",
    "    # Initialize extensions with the Flask application\n",
    "    login_manager.init_app(app)  # Initialize Flask-Login\n",
    "    login_manager.login_view = 'users.user_login'  # Redirect not logged-in users to this page\n",
    "    db.init_app(app)  # Initialize SQLAlchemy\n",
    "    mail.init_app(app)  # Initialize Flask-Mail\n",
    "    jwt.init_app(app)  # Initialize Flask-JWT-Extended\n",
    "    # Create database tables if they don't exist\n",
    "    with app.app_context():\n",
    "        db.create_all()\n",
    "    return app\n",
    "\n",
    "\n",
    "    "
   ]
  },
  {
   "cell_type": "code",
   "execution_count": null,
   "id": "c2bbc50d",
   "metadata": {
    "slideshow": {
     "slide_type": "slide"
    }
   },
   "outputs": [],
   "source": [
    "\n",
    "app = create_app()\n",
    "\n",
    "def generate_deeplink(token):\n",
    "    # Generate the deeplink with the token\n",
    "    deeplink = f\"http://127.0.0.1:5000/register/{token}\"\n",
    "    return deeplink\n",
    "\n",
    "def send_invitation_email(email, deeplink):\n",
    "    subject = \"Invitation à rejoindre notre service VTC\"\n",
    "    body = f\"\"\"\n",
    "    Bonjour,\n",
    "    \n",
    "    Vous avez été invitée à rejoindre notre service VTC. Cliquez sur le lien ci-dessous pour créer votre compte :\n",
    "    \n",
    "    {deeplink}\n",
    "    \n",
    "    Cordialement,\n",
    "    L'équipe VTC\n",
    "    \"\"\"\n",
    "    \n",
    "    msg = Message(subject, sender='thomaspapas470@gmail.com', recipients=[email])\n",
    "    msg.body = body\n",
    "\n",
    "    with app.app_context():\n",
    "         mail.send(msg)\n",
    "         "
   ]
  },
  {
   "cell_type": "markdown",
   "id": "44fb76ec",
   "metadata": {
    "slideshow": {
     "slide_type": "slide"
    }
   },
   "source": [
    "Import de app dans app.py ,des blueprints et des libraieries python utilisées "
   ]
  },
  {
   "cell_type": "code",
   "execution_count": 2,
   "id": "144e7c10",
   "metadata": {
    "slideshow": {
     "slide_type": "fragment"
    }
   },
   "outputs": [],
   "source": [
    ".\n",
    "\n",
    "from flask import  render_template,flash,redirect,url_for\n",
    "from config.models import app,db, InvitationEmails,User\n",
    "from flask_jwt_extended import decode_token\n",
    "from forms import RegistrationForm\n",
    "\n",
    "from admin_routes.admin_controller import admins  # Import admin blueprint\n",
    "from user_routes.user_controller import users  # Import user blueprint\n",
    "from driver_routes.driver_controller import drivers  # Import driver blueprint\n",
    "\n",
    "app.register_blueprint(admins, url_prefix='/admins')  # Register admin routes under /admins\n",
    "app.register_blueprint(users, url_prefix='/users')  # Register user routes under /users\n",
    "app.register_blueprint(drivers, url_prefix='/drivers')  # Register driver routes under /drivers\n",
    "\n",
    "\n",
    "@app.route(\"/\")\n",
    "def index():\n",
    "    return render_template('base.html')"
   ]
  },
  {
   "cell_type": "markdown",
   "id": "3e6a174c",
   "metadata": {
    "slideshow": {
     "slide_type": "slide"
    }
   },
   "source": [
    "2) Gestion des Utilisateurs et deeplinking"
   ]
  },
  {
   "cell_type": "code",
   "execution_count": null,
   "id": "fc5642e4",
   "metadata": {
    "slideshow": {
     "slide_type": "fragment"
    }
   },
   "outputs": [],
   "source": [
    "@app.route('/register/<token>', methods=['GET', 'POST'])\n",
    "def register(token):\n",
    "        try:\n",
    "            # Decode the token to extract user information\n",
    "            token_data = decode_token(token)\n",
    "         # Extract the email and role from the decoded token data\n",
    "            email = token_data['sub']['email'] # pour récupé\n",
    "            role = token_data['sub']['role']\n",
    "        except Exception as e:\n",
    "            # If an error occurs during token decoding (e.g., token is invalid or expired),\n",
    "            # flash an error message to the user indicating that the token is invalid\n",
    "            flash('Invalid token', 'danger')\n",
    "\n",
    "            # Redirect the user to the home page (index) as the token is invalid\n",
    "            return redirect(url_for('index'))\n",
    "\n",
    "        # Fetch all invitation emails from the database\n",
    "        db_emails = [inv.email for inv in InvitationEmails.query.all()]\n",
    "\n",
    "        # Check if the email extracted from the token is in the list of invitation emails\n",
    "        if email not in db_emails:\n",
    "            # If the email is not in the invitation emails, show an error message\n",
    "            flash('Invalid link', 'danger')\n",
    "            \n",
    "            # Redirect the user to the home page (index) as the link is invalid\n",
    "            return redirect(url_for('index'))\n",
    "\n",
    "      \n",
    "        "
   ]
  },
  {
   "cell_type": "code",
   "execution_count": null,
   "id": "66ea843e",
   "metadata": {
    "slideshow": {
     "slide_type": "slide"
    }
   },
   "outputs": [],
   "source": [
    "# Create a new instance of the registration form\n",
    "form = RegistrationForm()\n",
    "existing_user = User.query.filter_by(email=email).first()\n",
    "\n",
    "        # Check if the form has been submitted and is valid\n",
    "        if form.validate_on_submit():\n",
    "            if existing_user:\n",
    "                flash('Error. Email already exists')\n",
    "                return redirect(url_for(index))\n",
    "    \n",
    "            # Verify that the email provided in the form matches the email extracted from the token\n",
    "            if email == form.email.data: \n",
    "                # Create a new user instance based on the role extracted from the token\n",
    "                if role == 'admin':\n",
    "                    user = User(username=form.username.data, email=form.email.data, password=form.password.data, name=form.name.data, surname=form.surname.data, role='admin')\n",
    "                elif role == 'driver':\n",
    "                    user = User(username=form.username.data, email=form.email.data, password=form.password.data, name=form.name.data, surname=form.surname.data, role='driver')\n",
    "                else:\n",
    "                    user = User(username=form.username.data, email=form.email.data, name=form.name.data, password=form.password.data, surname=form.surname.data, role='user')\n",
    "\n",
    "                # Set the user's password\n",
    "                user.set_password(form.password.data)\n",
    "\n",
    "                # Add the new user to the database session\n",
    "                db.session.add(user)\n",
    "\n",
    "                # Commit the session to save the user to the database\n",
    "                db.session.commit()\n",
    "\n",
    "                # Flash a success message indicating that the user is now registered\n",
    "                flash(f'You are now a registered {role}', 'success')\n",
    "\n",
    "                # Redirect the user to the login page \n",
    "                return redirect(url_for('users.user_login'))\n",
    "\n",
    "        # Render the registration template with the form and email context variables\n",
    "        return render_template('register.html', form=form, email=email)\n"
   ]
  },
  {
   "cell_type": "markdown",
   "id": "7533b649",
   "metadata": {
    "slideshow": {
     "slide_type": "slide"
    }
   },
   "source": [
    "- token_data:\n",
    "\n",
    " Ceci est un dictionnaire qui contient des données, probablement obtenues à partir d'un token (par exemple, un JWT ou un autre type de jeton d'authentification).\n",
    "\n",
    "\n",
    "\n"
   ]
  },
  {
   "cell_type": "markdown",
   "id": "1d3fb17a",
   "metadata": {
    "slideshow": {
     "slide_type": "fragment"
    }
   },
   "source": [
    "- token_data['sub']:\n",
    "\n",
    " 'sub' est une clé dans le dictionnaire token_data. \n",
    " Dans le contexte des tokens, 'sub' signifie généralement \"subject\" (sujet), ce qui identifie souvent l'utilisateur ou l'entité dont le token parle."
   ]
  },
  {
   "cell_type": "markdown",
   "id": "9a8fc1ab",
   "metadata": {
    "slideshow": {
     "slide_type": "fragment"
    }
   },
   "source": [
    "\n",
    "- token_data['sub']['email']:\n",
    "\n",
    "  accède à la valeur associée à la clé 'email' dans le dictionnaire imbriqué trouvé à token_data['sub']. Cela suppose que token_data['sub'] est lui-même un dictionnaire.\n"
   ]
  },
  {
   "cell_type": "markdown",
   "id": "f16b79d6",
   "metadata": {
    "slideshow": {
     "slide_type": "fragment"
    }
   },
   "source": [
    "\n",
    "- token_data['sub']['role']:\n",
    "\n",
    " De même, cela accède à la valeur associée à la clé 'role' dans le dictionnaire imbriqué à token_data['sub']."
   ]
  }
 ],
 "metadata": {
  "celltoolbar": "Slideshow",
  "kernelspec": {
   "display_name": "Python 3 (ipykernel)",
   "language": "python",
   "name": "python3"
  },
  "language_info": {
   "codemirror_mode": {
    "name": "ipython",
    "version": 3
   },
   "file_extension": ".py",
   "mimetype": "text/x-python",
   "name": "python",
   "nbconvert_exporter": "python",
   "pygments_lexer": "ipython3",
   "version": "3.10.14"
  }
 },
 "nbformat": 4,
 "nbformat_minor": 5
}
